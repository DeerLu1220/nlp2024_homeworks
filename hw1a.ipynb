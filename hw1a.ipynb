{
 "cells": [
  {
   "cell_type": "markdown",
   "metadata": {},
   "source": [
    "Notebook to select the dataset assigned to me (26-29) and easily correct them."
   ]
  },
  {
   "cell_type": "code",
   "execution_count": 1,
   "metadata": {},
   "outputs": [
    {
     "name": "stdout",
     "output_type": "stream",
     "text": [
      "Collecting polars\n",
      "  Downloading polars-0.20.22-cp38-abi3-manylinux_2_17_x86_64.manylinux2014_x86_64.whl.metadata (14 kB)\n",
      "Downloading polars-0.20.22-cp38-abi3-manylinux_2_17_x86_64.manylinux2014_x86_64.whl (27.4 MB)\n",
      "\u001b[2K   \u001b[90m━━━━━━━━━━━━━━━━━━━━━━━━━━━━━━━━━━━━━━━━\u001b[0m \u001b[32m27.4/27.4 MB\u001b[0m \u001b[31m6.5 MB/s\u001b[0m eta \u001b[36m0:00:00\u001b[0m00:01\u001b[0m00:01\u001b[0m\n",
      "\u001b[?25hInstalling collected packages: polars\n",
      "Successfully installed polars-0.20.22\n"
     ]
    }
   ],
   "source": [
    "!pip install polars"
   ]
  },
  {
   "cell_type": "code",
   "execution_count": 30,
   "metadata": {},
   "outputs": [
    {
     "data": {
      "text/html": [
       "<div><style>\n",
       ".dataframe > thead > tr,\n",
       ".dataframe > tbody > tr {\n",
       "  text-align: right;\n",
       "  white-space: pre-wrap;\n",
       "}\n",
       "</style>\n",
       "<small>shape: (2, 33)</small><table border=\"1\" class=\"dataframe\"><thead><tr><th>penalty (-5)</th><th>Dataset number and corrector</th><th>Reading comprehension</th><th>Output files</th><th>Report</th><th>Code</th><th>Dataset number and corrector_duplicated_0</th><th>Reading comprehension_duplicated_0</th><th>Output files_duplicated_0</th><th>Report_duplicated_0</th><th>Code_duplicated_0</th><th>Points (3 max)</th><th>NOTES</th><th>Timestamp</th><th>Email Address</th><th>Group ID</th><th>Assigned Datasets</th><th>Link to shared Google Drive folder</th><th>Additional notes</th><th></th><th>_duplicated_0</th><th>_duplicated_1</th><th>_duplicated_2</th><th>_duplicated_3</th><th>_duplicated_4</th><th>_duplicated_5</th><th>_duplicated_6</th><th>_duplicated_7</th><th>_duplicated_8</th><th>_duplicated_9</th><th>_duplicated_10</th><th>_duplicated_11</th><th>_duplicated_12</th></tr><tr><td>i64</td><td>i64</td><td>i64</td><td>i64</td><td>str</td><td>i64</td><td>i64</td><td>str</td><td>str</td><td>str</td><td>str</td><td>i64</td><td>str</td><td>str</td><td>str</td><td>i64</td><td>str</td><td>str</td><td>str</td><td>str</td><td>str</td><td>str</td><td>str</td><td>str</td><td>str</td><td>str</td><td>str</td><td>str</td><td>str</td><td>str</td><td>str</td><td>str</td><td>str</td></tr></thead><tbody><tr><td>0</td><td>null</td><td>null</td><td>null</td><td>null</td><td>null</td><td>null</td><td>null</td><td>null</td><td>null</td><td>null</td><td>null</td><td>null</td><td>&quot;4/10/2024 1:31…</td><td>&quot;danese.1926188…</td><td>0</td><td>&quot;17, 24&quot;</td><td>&quot;https://drive.…</td><td>null</td><td>null</td><td>null</td><td>null</td><td>null</td><td>null</td><td>null</td><td>&quot;t1&quot;</td><td>&quot;t2&quot;</td><td>&quot;t3&quot;</td><td>&quot;t4&quot;</td><td>&quot;t5&quot;</td><td>&quot;t6&quot;</td><td>&quot;t7&quot;</td><td>null</td></tr><tr><td>0</td><td>null</td><td>null</td><td>null</td><td>null</td><td>null</td><td>null</td><td>null</td><td>null</td><td>null</td><td>null</td><td>null</td><td>null</td><td>&quot;4/10/2024 6:36…</td><td>&quot;vecchi.1938069…</td><td>0</td><td>&quot;2, 12&quot;</td><td>&quot;https://drive.…</td><td>&quot;folder contain…</td><td>null</td><td>null</td><td>null</td><td>null</td><td>null</td><td>&quot;delivery day&quot;</td><td>&quot;4/10/2024 8:00…</td><td>&quot;4/11/2024 23:5…</td><td>&quot;4/12/2024 23:5…</td><td>&quot;4/13/2024 23:5…</td><td>&quot;4/14/2024 23:5…</td><td>&quot;4/15/2024 23:5…</td><td>&quot;4/16/2024 23:5…</td><td>&quot;ELSE&quot;</td></tr></tbody></table></div>"
      ],
      "text/plain": [
       "shape: (2, 33)\n",
       "┌───────────┬───────────┬───────────┬───────────┬───┬───────────┬───────────┬───────────┬──────────┐\n",
       "│ penalty   ┆ Dataset   ┆ Reading   ┆ Output    ┆ … ┆ _duplicat ┆ _duplicat ┆ _duplicat ┆ _duplica │\n",
       "│ (-5)      ┆ number    ┆ comprehen ┆ files     ┆   ┆ ed_9      ┆ ed_10     ┆ ed_11     ┆ ted_12   │\n",
       "│ ---       ┆ and       ┆ sion      ┆ ---       ┆   ┆ ---       ┆ ---       ┆ ---       ┆ ---      │\n",
       "│ i64       ┆ corrector ┆ ---       ┆ i64       ┆   ┆ str       ┆ str       ┆ str       ┆ str      │\n",
       "│           ┆ ---       ┆ i64       ┆           ┆   ┆           ┆           ┆           ┆          │\n",
       "│           ┆ i64       ┆           ┆           ┆   ┆           ┆           ┆           ┆          │\n",
       "╞═══════════╪═══════════╪═══════════╪═══════════╪═══╪═══════════╪═══════════╪═══════════╪══════════╡\n",
       "│ 0         ┆ null      ┆ null      ┆ null      ┆ … ┆ t5        ┆ t6        ┆ t7        ┆ null     │\n",
       "│ 0         ┆ null      ┆ null      ┆ null      ┆ … ┆ 4/14/2024 ┆ 4/15/2024 ┆ 4/16/2024 ┆ ELSE     │\n",
       "│           ┆           ┆           ┆           ┆   ┆ 23:59:59  ┆ 23:59:59  ┆ 23:59:59  ┆          │\n",
       "└───────────┴───────────┴───────────┴───────────┴───┴───────────┴───────────┴───────────┴──────────┘"
      ]
     },
     "execution_count": 30,
     "metadata": {},
     "output_type": "execute_result"
    }
   ],
   "source": [
    "import polars as pl\n",
    "from pprint import pprint\n",
    "df_csv = pl.read_csv(\"hw1a-grades.csv\")\n",
    "df_csv.head(2)"
   ]
  },
  {
   "cell_type": "code",
   "execution_count": 39,
   "metadata": {},
   "outputs": [],
   "source": [
    "MY_DATASET = [26, 27, 28, 29]"
   ]
  },
  {
   "cell_type": "code",
   "execution_count": 44,
   "metadata": {},
   "outputs": [
    {
     "name": "stdout",
     "output_type": "stream",
     "text": [
      "0. `freitasgoncalves.2128459`: 25, 28\n",
      "1. `raschiatore.2071132`: Task_2 ,Task_24 ,Task_26(Distractor task)\n",
      "2. `gallo.1895146`: ITAmoji (task 20), Hypernym Discovery (task 26)\n",
      "3. `nocera.1863075`: 12(individual),27,12(distractors)\n",
      "4. `Renzi.1887793`: 12, 27\n",
      "5. `berardo.1814724`: 7, 28\n",
      "6. `branca.1965733`: 1, 7, 26\n",
      "7. `caracci.1915689`: 24, 26\n",
      "8. `crisa.2143080`: 12, 28\n",
      "9. `durso.2143081`: 15,27\n",
      "10. `marzo.1858001`: 24 26\n",
      "11. `santini.1843552`: 25, 28\n",
      "12. `panetta.1950468`: 0, 29\n",
      "13. `monteleone.1883922`: 23, 26\n",
      "14. `cardullo.2127806`: 0, 26\n",
      "15. `karakaya.2162527`: task-19-absita, task-28-pretens, task-23-postwita\n",
      "16. `belli.1849294`: Task 19, Task 26\n",
      "17. `paoluzzi.1743773`: 26, 29\n",
      "18. `paoluzzi.1743773`: 26, 29\n",
      "19. `lin.1859599`: 23, 29\n",
      "20. `lombardi.1883998`: Task 26 and task 29\n",
      "21. `lombardi.1883998`: Task 26 and task 29\n",
      "22. `pisano.1959863`: 9, 25, 26\n",
      "23. `javid.2047305`: 29, 12\n",
      "24. `spagnoli.1887715`: 12, 28, 29\n",
      "25. `spagnoli.1887715`: 12, 28, 29\n",
      "26. `cakoni.1985088`: 18,26\n",
      "27. `cutroni.1918336`: 21, 27\n",
      "28. `reinseth.2125171`: 0, 26 (EmoITA, SemEval)\n",
      "29. `aursand.2121100`: 2, 26\n",
      "30. `aur.1809715`: Task 26: Hypernym Discorvery\n",
      "Task 4: Word-in-Context (WiC) Disambiguation\n",
      "31. `meconi.1838058`: 23, 27\n",
      "32 homeworks to correct.\n"
     ]
    }
   ],
   "source": [
    "i = 0\n",
    "to_correct = []\n",
    "for row in df_csv.iter_rows(named=True):\n",
    "    if row['Assigned Datasets'] is None:\n",
    "        continue\n",
    "    for dataset in MY_DATASET:\n",
    "        if str(dataset) in row['Assigned Datasets']:\n",
    "            print(f\"{i}. `{row['Email Address'].split('@')[0]}`: {row['Assigned Datasets'].strip()}\")\n",
    "            to_correct.append(row['Email Address'].split('@')[0])\n",
    "            i += 1\n",
    "\n",
    "#pprint(to_correct)\n",
    "print(f\"{len(to_correct)} homeworks to correct.\")"
   ]
  }
 ],
 "metadata": {
  "kernelspec": {
   "display_name": "Python 3",
   "language": "python",
   "name": "python3"
  },
  "language_info": {
   "codemirror_mode": {
    "name": "ipython",
    "version": 3
   },
   "file_extension": ".py",
   "mimetype": "text/x-python",
   "name": "python",
   "nbconvert_exporter": "python",
   "pygments_lexer": "ipython3",
   "version": "3.11.9"
  }
 },
 "nbformat": 4,
 "nbformat_minor": 2
}
