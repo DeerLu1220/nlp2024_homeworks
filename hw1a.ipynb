{
 "cells": [
  {
   "cell_type": "markdown",
   "metadata": {},
   "source": [
    "Notebook to select the dataset assigned to me (26-29) and easily correct them.\n",
    "# Select my students"
   ]
  },
  {
   "cell_type": "code",
   "execution_count": null,
   "metadata": {},
   "outputs": [],
   "source": [
    "!pip install polars"
   ]
  },
  {
   "cell_type": "code",
   "execution_count": 1,
   "metadata": {},
   "outputs": [
    {
     "data": {
      "text/html": [
       "<div><style>\n",
       ".dataframe > thead > tr,\n",
       ".dataframe > tbody > tr {\n",
       "  text-align: right;\n",
       "  white-space: pre-wrap;\n",
       "}\n",
       "</style>\n",
       "<small>shape: (2, 33)</small><table border=\"1\" class=\"dataframe\"><thead><tr><th>penalty (-5)</th><th>Dataset number and corrector</th><th>Reading comprehension</th><th>Output files</th><th>Report</th><th>Code</th><th>Dataset number and corrector_duplicated_0</th><th>Reading comprehension_duplicated_0</th><th>Output files_duplicated_0</th><th>Report_duplicated_0</th><th>Code_duplicated_0</th><th>Points (3 max)</th><th>NOTES</th><th>Timestamp</th><th>Email Address</th><th>Group ID</th><th>Assigned Datasets</th><th>Link to shared Google Drive folder</th><th>Additional notes</th><th></th><th>_duplicated_0</th><th>_duplicated_1</th><th>_duplicated_2</th><th>_duplicated_3</th><th>_duplicated_4</th><th>_duplicated_5</th><th>_duplicated_6</th><th>_duplicated_7</th><th>_duplicated_8</th><th>_duplicated_9</th><th>_duplicated_10</th><th>_duplicated_11</th><th>_duplicated_12</th></tr><tr><td>i64</td><td>str</td><td>i64</td><td>str</td><td>str</td><td>i64</td><td>i64</td><td>i64</td><td>str</td><td>i64</td><td>i64</td><td>i64</td><td>str</td><td>str</td><td>str</td><td>i64</td><td>str</td><td>str</td><td>str</td><td>str</td><td>str</td><td>str</td><td>str</td><td>str</td><td>str</td><td>str</td><td>str</td><td>str</td><td>str</td><td>str</td><td>str</td><td>str</td><td>str</td></tr></thead><tbody><tr><td>0</td><td>null</td><td>null</td><td>null</td><td>null</td><td>null</td><td>null</td><td>null</td><td>null</td><td>null</td><td>null</td><td>null</td><td>null</td><td>&quot;4/10/2024 1:31:06&quot;</td><td>&quot;danese.1926188@studenti.unirom…</td><td>0</td><td>&quot;17, 24&quot;</td><td>&quot;https://drive.google.com/drive…</td><td>null</td><td>null</td><td>null</td><td>null</td><td>null</td><td>null</td><td>null</td><td>&quot;t1&quot;</td><td>&quot;t2&quot;</td><td>&quot;t3&quot;</td><td>&quot;t4&quot;</td><td>&quot;t5&quot;</td><td>&quot;t6&quot;</td><td>&quot;t7&quot;</td><td>null</td></tr><tr><td>0</td><td>null</td><td>null</td><td>null</td><td>null</td><td>null</td><td>null</td><td>null</td><td>null</td><td>null</td><td>null</td><td>null</td><td>null</td><td>&quot;4/10/2024 6:36:15&quot;</td><td>&quot;vecchi.1938069@studenti.unirom…</td><td>0</td><td>&quot;2, 12&quot;</td><td>&quot;https://drive.google.com/file/…</td><td>&quot;folder contains also datasets …</td><td>null</td><td>null</td><td>null</td><td>null</td><td>null</td><td>&quot;delivery day&quot;</td><td>&quot;4/10/2024 8:00:00&quot;</td><td>&quot;4/11/2024 23:59:59&quot;</td><td>&quot;4/12/2024 23:59:59&quot;</td><td>&quot;4/13/2024 23:59:59&quot;</td><td>&quot;4/14/2024 23:59:59&quot;</td><td>&quot;4/15/2024 23:59:59&quot;</td><td>&quot;4/16/2024 23:59:59&quot;</td><td>&quot;ELSE&quot;</td></tr></tbody></table></div>"
      ],
      "text/plain": [
       "shape: (2, 33)\n",
       "┌───────────┬───────────┬───────────┬───────────┬───┬───────────┬───────────┬───────────┬──────────┐\n",
       "│ penalty   ┆ Dataset   ┆ Reading   ┆ Output    ┆ … ┆ _duplicat ┆ _duplicat ┆ _duplicat ┆ _duplica │\n",
       "│ (-5)      ┆ number    ┆ comprehen ┆ files     ┆   ┆ ed_9      ┆ ed_10     ┆ ed_11     ┆ ted_12   │\n",
       "│ ---       ┆ and       ┆ sion      ┆ ---       ┆   ┆ ---       ┆ ---       ┆ ---       ┆ ---      │\n",
       "│ i64       ┆ corrector ┆ ---       ┆ str       ┆   ┆ str       ┆ str       ┆ str       ┆ str      │\n",
       "│           ┆ ---       ┆ i64       ┆           ┆   ┆           ┆           ┆           ┆          │\n",
       "│           ┆ str       ┆           ┆           ┆   ┆           ┆           ┆           ┆          │\n",
       "╞═══════════╪═══════════╪═══════════╪═══════════╪═══╪═══════════╪═══════════╪═══════════╪══════════╡\n",
       "│ 0         ┆ null      ┆ null      ┆ null      ┆ … ┆ t5        ┆ t6        ┆ t7        ┆ null     │\n",
       "│ 0         ┆ null      ┆ null      ┆ null      ┆ … ┆ 4/14/2024 ┆ 4/15/2024 ┆ 4/16/2024 ┆ ELSE     │\n",
       "│           ┆           ┆           ┆           ┆   ┆ 23:59:59  ┆ 23:59:59  ┆ 23:59:59  ┆          │\n",
       "└───────────┴───────────┴───────────┴───────────┴───┴───────────┴───────────┴───────────┴──────────┘"
      ]
     },
     "execution_count": 1,
     "metadata": {},
     "output_type": "execute_result"
    }
   ],
   "source": [
    "import polars as pl\n",
    "df_csv = pl.read_csv(\"hw1a-grades.csv\")\n",
    "df_csv.head(2)"
   ]
  },
  {
   "cell_type": "code",
   "execution_count": 2,
   "metadata": {},
   "outputs": [],
   "source": [
    "MY_DATASET = [26, 27, 28, 29]"
   ]
  },
  {
   "cell_type": "markdown",
   "metadata": {},
   "source": []
  },
  {
   "cell_type": "code",
   "execution_count": 4,
   "metadata": {},
   "outputs": [
    {
     "name": "stdout",
     "output_type": "stream",
     "text": [
      "32 homeworks to correct.\n"
     ]
    }
   ],
   "source": [
    "i = 0\n",
    "to_correct = []\n",
    "\n",
    "for row in df_csv.iter_rows(named=True):\n",
    "    if row['Assigned Datasets'] is None:\n",
    "        continue\n",
    "    for dataset in MY_DATASET:\n",
    "        if str(dataset) in row['Assigned Datasets']:\n",
    "            to_correct.append(\n",
    "                (row['Email Address'].split('@')[0].lower(), row['Link to shared Google Drive folder'], row['Assigned Datasets'].strip())\n",
    "            )\n",
    "            i += 1\n",
    "\n",
    "with open(\"hw1a_to_correct.md\", \"w+\") as fout:\n",
    "    print(f\"# TO CORRECT {MY_DATASET}\", file=fout)\n",
    "    for elem in sorted(to_correct, key=lambda x:x[0]):\n",
    "        print(f\"- [ ] `{elem[0]}`: [{elem[2]}]({elem[1]})\", file=fout)\n",
    "\n",
    "print(f\"{len(to_correct)} homeworks to correct.\")"
   ]
  },
  {
   "cell_type": "markdown",
   "metadata": {},
   "source": [
    "# Download the data\n"
   ]
  },
  {
   "cell_type": "code",
   "execution_count": null,
   "metadata": {},
   "outputs": [],
   "source": [
    "!pip install tqdm gdown"
   ]
  },
  {
   "cell_type": "code",
   "execution_count": null,
   "metadata": {},
   "outputs": [],
   "source": [
    "import os\n",
    "import gdown\n",
    "import zipfile\n",
    "from tqdm import tqdm\n",
    "path = 'students_submissions'"
   ]
  },
  {
   "cell_type": "code",
   "execution_count": null,
   "metadata": {},
   "outputs": [],
   "source": [
    "os.makedirs(path, exist_ok=True)\n",
    "with open(f\"{path}/downloads.log\", 'w+') as fout:\n",
    "    for data in tqdm(to_correct, desc='> downloading'):\n",
    "        try:\n",
    "            if '/file/' in data[1]:\n",
    "                downloaded = gdown.download(data[1], output=f'{path}/{data[0]}.zip', quiet=True, use_cookies=True, fuzzy=True)\n",
    "            else:\n",
    "                downloaded = gdown.download_folder(data[1], output=f'{path}/{data[0]}', quiet=True, use_cookies=True)\n",
    "        except:\n",
    "            print(data, file=fout)\n",
    "            print(f\"Can't download {data}\")"
   ]
  },
  {
   "cell_type": "code",
   "execution_count": null,
   "metadata": {},
   "outputs": [],
   "source": [
    "for filename in tqdm(os.listdir(path), desc='> unzipping'):\n",
    "    fin = os.path.join(path, filename)\n",
    "    if os.path.isfile(fin) and fin.endswith('.zip'):\n",
    "        with zipfile.ZipFile(fin, 'r') as zip:\n",
    "            zip.extractall(fin.replace('.zip', '/'))\n",
    "        os.remove(fin)"
   ]
  }
 ],
 "metadata": {
  "kernelspec": {
   "display_name": "Python 3",
   "language": "python",
   "name": "python3"
  },
  "language_info": {
   "codemirror_mode": {
    "name": "ipython",
    "version": 3
   },
   "file_extension": ".py",
   "mimetype": "text/x-python",
   "name": "python",
   "nbconvert_exporter": "python",
   "pygments_lexer": "ipython3",
   "version": "3.11.9"
  }
 },
 "nbformat": 4,
 "nbformat_minor": 2
}
