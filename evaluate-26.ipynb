{
 "cells": [
  {
   "cell_type": "code",
   "execution_count": 25,
   "metadata": {},
   "outputs": [],
   "source": [
    "import json\n",
    "\n",
    "def load_student_data(data_path:str):\n",
    "    errors = []\n",
    "    data = set()\n",
    "    with open(data_path) as f:\n",
    "        for line in f:\n",
    "            elem = json.loads(line)\n",
    "            if len(elem['choices']) != 4:\n",
    "                errors.append(elem)\n",
    "                print(f\"There are more/less than 4 choices found for: {elem}\")\n",
    "            data.add(elem['text'].strip())\n",
    "    print(f\"{len(errors)} errors.\")\n",
    "    return data\n",
    "\n",
    "def load_original_data(data_path:str):\n",
    "    data = set()\n",
    "    with open(data_path, \"r\", encoding = 'utf-8') as fin:\n",
    "        for line in fin:\n",
    "            item = line.strip().replace('Concept', '').replace('Entity', '').strip('\\t')\n",
    "            data.add(item)\n",
    "    return data\n",
    "\n",
    "def check_data(orig, processed):\n",
    "    a = orig.difference(processed)\n",
    "    b = processed.difference(orig)\n",
    "    assert len(a) == 0, f\"{len(a)} entries in original data and not in processed: {a}\" \n",
    "    assert len(b) == 0, f\"{len(b)} entries in processed data and not in original: {b}\" \n",
    "\n",
    "original_train_data = load_original_data('original_datasets/task-26-hypernym_discovery/training/data/1B.italian.training.data.txt')\n",
    "original_test_data = load_original_data('original_datasets/task-26-hypernym_discovery/test/data/1B.italian.test.data.txt')"
   ]
  },
  {
   "cell_type": "code",
   "execution_count": 29,
   "metadata": {},
   "outputs": [],
   "source": [
    "STUDENT_TRAIN_FILE = 'students_submissions/cakoni.1985088/HM1_A-1985088/task-26-hypernym_discovery/hypernym_discovery-train.jsonl'\n",
    "STUDENT_TEST_FILE  = 'students_submissions/cakoni.1985088/HM1_A-1985088/task-26-hypernym_discovery/hypernym_discovery-test.jsonl'"
   ]
  },
  {
   "cell_type": "code",
   "execution_count": 30,
   "metadata": {},
   "outputs": [
    {
     "name": "stdout",
     "output_type": "stream",
     "text": [
      "0 errors.\n"
     ]
    },
    {
     "ename": "AssertionError",
     "evalue": "255 entries in original data and not in processed: {'Colli Tortonesi Cortese', 'Gustavo Cisneros', 'Università di Stanford', 'caso nominativo', 'La torre nera', 'Tito Livio', 'futuro anteriore', 'Sus scrofa', 'Downing Street', 'Arthur Rimbaud', 'Oriente cristiano', 'Mungo Park', 'Enrico Berlinguer', 'stadio di baseball', 'provincia di Roma', 'Museo Barracco', 'Silvio Micali', 'Antonio Palomba', 'Quarto potere', 'sostegno economico', 'carta moneta', 'San Donato', 'Monte Bondone', 'Enza Rossano', 'Attilio Veraldi', 'Il Cairo', 'erosione della costa', 'Il risveglio', 'discorso diretto', 'Mario Piantelli', 'Romano Prodi', 'educazione fisica', 'Luca Desiato', 'vitamina C', 'Mark Kozelek', 'Laura Brown', 'Gianluigi Buffon', 'Witold Gombrowicz', 'eruzione vulcanica', 'Mario Bianchi', 'verde giada', 'Oceano Atlantico', 'Hans Arp', 'Cristiano Ronaldo', 'Sacre Scritture', 'Paolo Veronese', 'asso di picche', 'John Maeda', 'Dean Acheson', 'porta parallela', 'Tim Burton', 'James Watson', 'scala di sicurezza', 'scuola privata', 'Miseria della filosofia', 'America latina', 'dispositivo di sicurezza', 'Il padre', 'Roberto Baggio', 'punto mediano', 'Indirizzo permanente', 'kit di attrezzi', 'stazione ferroviaria', 'Carlo Pisacane', 'Zora la vampira', 'porticciolo turistico', 'croce gammata', 'equazione differenziale', 'mal tempo', 'orologio atomico', 'Massa Martana', 'Riccardo Ruggiero', 'Jamie Kennedy', 'coniglio selvatico', 'Don Gibson', 'Renata Tebaldi', 'Alex Hofmann', 'valutazione scolastica', 'Richard Rorty', 'cavallo di troia', 'Gesù Bambino', 'equazione di Bernoulli', 'carrozza postale', 'Giudizio finale', 'Marcel Duchamp', 'Medical Center', 'carta di credito', 'Daisy Bates', 'Noam Chomsky', 'Enrico Maggi', 'campione rappresentativo', 'Robert M. Bowman', 'Woody Allen', 'Tom Stoppard', 'Mike Myers', 'capacità termica', 'teologia cristiana', 'William Fichtner', 'sterlina britannica', 'John Donne', 'occupazione militare', 'Silvio Berlusconi', 'Ford Escort', 'giorno delle elezioni', 'Christian Vieri', 'pirata informatico', 'tettonica a zolle', 'Patatine fritte', 'Università della Calabria', 'Show Business', 'compito a casa', 'Mordecai Richler', 'Teresa Villaverde', 'Ralf Schumacher', 'imposta di successione', 'previsioni del tempo', 'Giulio Andreotti', 'Orietta Berti', 'Jacques Chirac', 'non senso', 'Lorenzo Celsi', 'Mario Bettini', 'Sete di sangue', 'Charles Péguy', 'scarpa da ginnastica', 'Franklin D. Roosevelt', 'Francesco Cossiga', 'mosca bianca', 'cavalieri templari', 'La Rocca', 'Furio Colombo', 'Neil Young', 'Gruppo Locale', 'produttore cinematografico', 'Roy Lichtenstein', 'cavolo rapa', 'John Vincent', 'Castelletto Molina', 'animale da macello', 'insalata di cavolo', 'Renzo Arbore', 'sterlina irlandese', 'topo muschiato', 'Marvin Olasky', 'Charles Boyer', 'Renato Guttuso', 'Pall Mall', 'Passo della Mauria', 'Luigi Berlinguer', 'anno sabbatico', 'idrossido di alluminio', 'nord magnetico', 'Enrico Montanari', 'ministro delle finanze', 'Tito Maccio Plauto', 'Jean Harlow', 'busta paga', 'parte civile', 'mitologia greco-romana', 'chiave inglese', 'Storm Front', 'Zhang Ziyi', 'Harriet Beecher Stowe', 'nana nera', 'Carlo Bertotti', 'Georges Brassens', 'permesso di soggiorno', 'Celenza Valfortore', 'Isole Eolie', 'accademia militare', 'mezzo sangue', 'Michael Faraday', 'Boz Scaggs', 'Franklin Pierce', 'costo medio', 'slot machine', 'Daniele Capezzone', 'ballo studentesco', 'livello del mare', 'segreteria telefonica', 'Luci della ribalta', 'Ralph Waldo Emerson', 'Gran Via', 'Louis-Philippe Dalembert', 'fondo pensione', 'Gigi Proietti', 'basso latino', 'Francesco Zambon', 'Rania di Giordania', 'Happy Hour', 'braccio destro', 'turismo responsabile', 'Jacques Dubois', 'Vicino Oriente', 'Sylvano Bussotti', 'Val Vomano', 'persona di servizio', 'Jim Thorpe', 'Discovery Channel', 'spazio libero', 'Ezra Pound', 'Oceano Artico', 'Ministero delle Finanze', 'azzurro chiaro', 'Harold Pinter', 'Mayumi Iizuka', 'scuola di danza', 'distributore automatico', 'carne equina', 'Federico Mompou', 'Victoria Abril', 'rana toro', 'Giorgio Chiellini', 'Riccardo Bauer', 'cigno femmina', 'zona disastrata', 'Arthur Brown', 'sito web', 'Eugène Sue', 'Lorenzo Minotti', 'San Giovanni Evangelista', 'Pupi Avati', 'casella postale', 'David Bowe', 'Elio Germano', 'Palma Soriano', 'Leri Cavour', 'funicolo ombelicale', 'Nokia 3220', 'tassa scolastica', 'Sirius Black', 'David Klein', 'Olive Thomas', 'Circolo vizioso', 'Antonio Berardi', 'Alfred Hitchcock', 'Stefano Sartori', 'linea di demarcazione', 'Eduard Buchner', 'Felice Baciocchi', 'dottore di ricerca', 'Vuoto di luna', 'Federico Fellini', 'Vittorio Saltini', 'Michele da Cesena', 'Grande depressione', 'Angelika Kauffmann', 'Maria Antonietta', 'disco rigido', 'John Cromwell', 'Padre nostro', 'gioielli della Corona', 'Andrea Ghetti', 'William Walton', 'divo del cinema'}",
     "output_type": "error",
     "traceback": [
      "\u001b[0;31m---------------------------------------------------------------------------\u001b[0m",
      "\u001b[0;31mAssertionError\u001b[0m                            Traceback (most recent call last)",
      "Cell \u001b[0;32mIn[30], line 3\u001b[0m\n\u001b[1;32m      1\u001b[0m \u001b[38;5;66;03m# Train file\u001b[39;00m\n\u001b[1;32m      2\u001b[0m student_train_data \u001b[38;5;241m=\u001b[39m load_student_data(STUDENT_TRAIN_FILE)\n\u001b[0;32m----> 3\u001b[0m \u001b[43mcheck_data\u001b[49m\u001b[43m(\u001b[49m\u001b[43moriginal_train_data\u001b[49m\u001b[43m,\u001b[49m\u001b[43m \u001b[49m\u001b[43mstudent_train_data\u001b[49m\u001b[43m)\u001b[49m\n",
      "Cell \u001b[0;32mIn[25], line 27\u001b[0m, in \u001b[0;36mcheck_data\u001b[0;34m(orig, processed)\u001b[0m\n\u001b[1;32m     25\u001b[0m a \u001b[38;5;241m=\u001b[39m orig\u001b[38;5;241m.\u001b[39mdifference(processed)\n\u001b[1;32m     26\u001b[0m b \u001b[38;5;241m=\u001b[39m processed\u001b[38;5;241m.\u001b[39mdifference(orig)\n\u001b[0;32m---> 27\u001b[0m \u001b[38;5;28;01massert\u001b[39;00m \u001b[38;5;28mlen\u001b[39m(a) \u001b[38;5;241m==\u001b[39m \u001b[38;5;241m0\u001b[39m, \u001b[38;5;124mf\u001b[39m\u001b[38;5;124m\"\u001b[39m\u001b[38;5;132;01m{\u001b[39;00m\u001b[38;5;28mlen\u001b[39m(a)\u001b[38;5;132;01m}\u001b[39;00m\u001b[38;5;124m entries in original data and not in processed: \u001b[39m\u001b[38;5;132;01m{\u001b[39;00ma\u001b[38;5;132;01m}\u001b[39;00m\u001b[38;5;124m\"\u001b[39m \n\u001b[1;32m     28\u001b[0m \u001b[38;5;28;01massert\u001b[39;00m \u001b[38;5;28mlen\u001b[39m(b) \u001b[38;5;241m==\u001b[39m \u001b[38;5;241m0\u001b[39m, \u001b[38;5;124mf\u001b[39m\u001b[38;5;124m\"\u001b[39m\u001b[38;5;132;01m{\u001b[39;00m\u001b[38;5;28mlen\u001b[39m(b)\u001b[38;5;132;01m}\u001b[39;00m\u001b[38;5;124m entries in processed data and not in original: \u001b[39m\u001b[38;5;132;01m{\u001b[39;00mb\u001b[38;5;132;01m}\u001b[39;00m\u001b[38;5;124m\"\u001b[39m\n",
      "\u001b[0;31mAssertionError\u001b[0m: 255 entries in original data and not in processed: {'Colli Tortonesi Cortese', 'Gustavo Cisneros', 'Università di Stanford', 'caso nominativo', 'La torre nera', 'Tito Livio', 'futuro anteriore', 'Sus scrofa', 'Downing Street', 'Arthur Rimbaud', 'Oriente cristiano', 'Mungo Park', 'Enrico Berlinguer', 'stadio di baseball', 'provincia di Roma', 'Museo Barracco', 'Silvio Micali', 'Antonio Palomba', 'Quarto potere', 'sostegno economico', 'carta moneta', 'San Donato', 'Monte Bondone', 'Enza Rossano', 'Attilio Veraldi', 'Il Cairo', 'erosione della costa', 'Il risveglio', 'discorso diretto', 'Mario Piantelli', 'Romano Prodi', 'educazione fisica', 'Luca Desiato', 'vitamina C', 'Mark Kozelek', 'Laura Brown', 'Gianluigi Buffon', 'Witold Gombrowicz', 'eruzione vulcanica', 'Mario Bianchi', 'verde giada', 'Oceano Atlantico', 'Hans Arp', 'Cristiano Ronaldo', 'Sacre Scritture', 'Paolo Veronese', 'asso di picche', 'John Maeda', 'Dean Acheson', 'porta parallela', 'Tim Burton', 'James Watson', 'scala di sicurezza', 'scuola privata', 'Miseria della filosofia', 'America latina', 'dispositivo di sicurezza', 'Il padre', 'Roberto Baggio', 'punto mediano', 'Indirizzo permanente', 'kit di attrezzi', 'stazione ferroviaria', 'Carlo Pisacane', 'Zora la vampira', 'porticciolo turistico', 'croce gammata', 'equazione differenziale', 'mal tempo', 'orologio atomico', 'Massa Martana', 'Riccardo Ruggiero', 'Jamie Kennedy', 'coniglio selvatico', 'Don Gibson', 'Renata Tebaldi', 'Alex Hofmann', 'valutazione scolastica', 'Richard Rorty', 'cavallo di troia', 'Gesù Bambino', 'equazione di Bernoulli', 'carrozza postale', 'Giudizio finale', 'Marcel Duchamp', 'Medical Center', 'carta di credito', 'Daisy Bates', 'Noam Chomsky', 'Enrico Maggi', 'campione rappresentativo', 'Robert M. Bowman', 'Woody Allen', 'Tom Stoppard', 'Mike Myers', 'capacità termica', 'teologia cristiana', 'William Fichtner', 'sterlina britannica', 'John Donne', 'occupazione militare', 'Silvio Berlusconi', 'Ford Escort', 'giorno delle elezioni', 'Christian Vieri', 'pirata informatico', 'tettonica a zolle', 'Patatine fritte', 'Università della Calabria', 'Show Business', 'compito a casa', 'Mordecai Richler', 'Teresa Villaverde', 'Ralf Schumacher', 'imposta di successione', 'previsioni del tempo', 'Giulio Andreotti', 'Orietta Berti', 'Jacques Chirac', 'non senso', 'Lorenzo Celsi', 'Mario Bettini', 'Sete di sangue', 'Charles Péguy', 'scarpa da ginnastica', 'Franklin D. Roosevelt', 'Francesco Cossiga', 'mosca bianca', 'cavalieri templari', 'La Rocca', 'Furio Colombo', 'Neil Young', 'Gruppo Locale', 'produttore cinematografico', 'Roy Lichtenstein', 'cavolo rapa', 'John Vincent', 'Castelletto Molina', 'animale da macello', 'insalata di cavolo', 'Renzo Arbore', 'sterlina irlandese', 'topo muschiato', 'Marvin Olasky', 'Charles Boyer', 'Renato Guttuso', 'Pall Mall', 'Passo della Mauria', 'Luigi Berlinguer', 'anno sabbatico', 'idrossido di alluminio', 'nord magnetico', 'Enrico Montanari', 'ministro delle finanze', 'Tito Maccio Plauto', 'Jean Harlow', 'busta paga', 'parte civile', 'mitologia greco-romana', 'chiave inglese', 'Storm Front', 'Zhang Ziyi', 'Harriet Beecher Stowe', 'nana nera', 'Carlo Bertotti', 'Georges Brassens', 'permesso di soggiorno', 'Celenza Valfortore', 'Isole Eolie', 'accademia militare', 'mezzo sangue', 'Michael Faraday', 'Boz Scaggs', 'Franklin Pierce', 'costo medio', 'slot machine', 'Daniele Capezzone', 'ballo studentesco', 'livello del mare', 'segreteria telefonica', 'Luci della ribalta', 'Ralph Waldo Emerson', 'Gran Via', 'Louis-Philippe Dalembert', 'fondo pensione', 'Gigi Proietti', 'basso latino', 'Francesco Zambon', 'Rania di Giordania', 'Happy Hour', 'braccio destro', 'turismo responsabile', 'Jacques Dubois', 'Vicino Oriente', 'Sylvano Bussotti', 'Val Vomano', 'persona di servizio', 'Jim Thorpe', 'Discovery Channel', 'spazio libero', 'Ezra Pound', 'Oceano Artico', 'Ministero delle Finanze', 'azzurro chiaro', 'Harold Pinter', 'Mayumi Iizuka', 'scuola di danza', 'distributore automatico', 'carne equina', 'Federico Mompou', 'Victoria Abril', 'rana toro', 'Giorgio Chiellini', 'Riccardo Bauer', 'cigno femmina', 'zona disastrata', 'Arthur Brown', 'sito web', 'Eugène Sue', 'Lorenzo Minotti', 'San Giovanni Evangelista', 'Pupi Avati', 'casella postale', 'David Bowe', 'Elio Germano', 'Palma Soriano', 'Leri Cavour', 'funicolo ombelicale', 'Nokia 3220', 'tassa scolastica', 'Sirius Black', 'David Klein', 'Olive Thomas', 'Circolo vizioso', 'Antonio Berardi', 'Alfred Hitchcock', 'Stefano Sartori', 'linea di demarcazione', 'Eduard Buchner', 'Felice Baciocchi', 'dottore di ricerca', 'Vuoto di luna', 'Federico Fellini', 'Vittorio Saltini', 'Michele da Cesena', 'Grande depressione', 'Angelika Kauffmann', 'Maria Antonietta', 'disco rigido', 'John Cromwell', 'Padre nostro', 'gioielli della Corona', 'Andrea Ghetti', 'William Walton', 'divo del cinema'}"
     ]
    }
   ],
   "source": [
    "# Train file\n",
    "student_train_data = load_student_data(STUDENT_TRAIN_FILE)\n",
    "check_data(original_train_data, student_train_data)"
   ]
  },
  {
   "cell_type": "code",
   "execution_count": 31,
   "metadata": {},
   "outputs": [
    {
     "name": "stdout",
     "output_type": "stream",
     "text": [
      "0 errors.\n"
     ]
    },
    {
     "ename": "AssertionError",
     "evalue": "204 entries in original data and not in processed: {'giorno lavorativo', 'tour de force', 'Ponte Vecchio', 'Tropico del Capricorno', 'Lancia Y', 'Giovanni della Croce', 'word processor', 'salamandra pezzata', 'museo scientifico', 'Mario Lavezzi', 'assistente sociale', 'Ugo La Malfa', 'San Biagio', 'Robert Bruce', 'Partito Comunista Italiano', 'Paolo Conte', 'Led Zeppelin', 'Margherita Hack', 'Carlo Maria Martini', 'Red Hat', 'Cascate del Niagara', 'Federazione Russa', 'lingua friulana', 'costume da bagno', 'vapore acqueo', 'esame del DNA', 'Il giudizio', 'campionato mondiale', 'Piazza di Spagna', 'Mar Mediterraneo', 'Marco Travaglio', 'Francesco Totti', 'Oliviero Toscani', 'Max Biaggi', 'anniversario di matrimonio', 'client di posta', 'Alto Commissario', 'croce di Malta', 'corona svedese', 'Santa Rita', 'The Simpsons', 'circuito stampato', 'Cesare Pavese', 'la minore', 'Il Messaggero', 'Don Chisciotte', 'Fassa Bortolo', 'letto matrimoniale', 'Cesare Battisti', 'Il vento', 'mercato del lavoro', 'Times New Roman', 'Lincoln Memorial', 'Piazza Umberto I', 'mercato dei titoli', 'Partito Liberale', 'scuola elementare', 'Emily Dickinson', 'Gran Bretagna', 'ministro degli interni', 'Lamberto Dini', 'Giacomo Puccini', 'Pietro Nenni', 'tour operator', 'Carlo Giovanardi', 'tiro a segno', 'Niente paura', 'strada maestra', 'Agenzia delle Entrate', 'scuola di specializzazione', 'radiazione solare', 'energia potenziale', 'Il sogno', 'La cosa', 'Canale di Panamá', 'François Truffaut', 'passato prossimo', 'Porto Cervo', 'Julia Roberts', 'Giancarlo Galan', 'comandante in capo', 'Serie B', 'foresta pluviale', 'Mare del Nord', 'Mar del Nord', 'apparecchio ortodontico', 'mercato borsistico', 'albero a camme', 'Lance Armstrong', 'Santa Sede', 'istituto di emissione', 'lettera di cambio', 'telefono cellulare', 'Galileo Ferraris', 'Leonardo Domenici', 'centrale nucleare', 'San Vitale', 'realtà virtuale', 'James Stewart', 'Gianni Letta', 'progetto pilota', 'squadra volante', 'Casola Valsenio', 'John Ford', 'campo sportivo', 'Martin Mystère', 'Vandana Shiva', 'industria petrolifera', 'Kurt Vonnegut', 'dollaro americano', 'Il lupo', 'Oceano Pacifico', 'elezione diretta', 'Il fiume', 'lingua parlata', 'Alex Zanotelli', 'Asia Minore', 'mar Egeo', 'Britney Spears', 'casa a schiera', 'Libro dei Giudici', 'passera scopaiola', 'star del cinema', 'Chicago Bulls', 'diritto di passaggio', 'Michelle Pfeiffer', 'Re Sole', 'Paolo Bonolis', 'Il giocatore', 'morbo di Parkinson', 'falco di palude', 'William Shakespeare', 'vigili del fuoco', 'unità di tempo', 'British Medical Journal', 'studio legale', 'sequestro di persona', 'lana di vetro', 'Google Maps', 'spargimento di sangue', 'San Vito', 'New Jersey', 'pensione di invalidità', 'gara di velocità', 'Emma Bonino', 'Franco Angeli', 'torre Eiffel', 'ufficio di collocamento', 'Santo Stefano', 'Ernest Rutherford', 'televisione via cavo', 'azienda pubblica', 'Alfredo il Grande', 'Palazzo di Giustizia', 'Sin City', 'atto costitutivo', 'Isole Aleutine', 'Adriano Olivetti', 'pompa da bicicletta', 'antica Grecia', 'Moira Shearer', 'Lo specchio', 'rublo russo', 'Pax Christi', 'Emanuele Filiberto', 'rete elettrica', 'Il muro', 'Paolo Costa', 'fuga di notizie', 'chiave musicale', 'Prodotto interno lordo', 'Elettra Deiana', 'Egidio Banti', 'cranio umano', 'età moderna', 'Un uomo', 'Ariel Sharon', 'Riccardo Magherini', 'papillomavirus umano', 'agenzia di viaggi', 'Mark Twain', 'Santa Maria', 'Università del Wisconsin-Madison', 'palla da rugby', 'lago Trasimeno', 'Rai 1', 'Gengis Khan', 'assegno a vuoto', 'punto di vista', 'spazio vitale', 'acqua marina', 'Peter Pan', 'Martin Scorsese', 'San Severo', 'fisica moderna', 'guerra totale', 'Guerra fredda', 'Etty Hillesum', 'Marciana Marina', 'vescicola seminale', 'Oliver Stone', 'Bill Gates', 'Lonate Pozzolo', 'Lamezia Terme'}",
     "output_type": "error",
     "traceback": [
      "\u001b[0;31m---------------------------------------------------------------------------\u001b[0m",
      "\u001b[0;31mAssertionError\u001b[0m                            Traceback (most recent call last)",
      "Cell \u001b[0;32mIn[31], line 3\u001b[0m\n\u001b[1;32m      1\u001b[0m \u001b[38;5;66;03m# Test file\u001b[39;00m\n\u001b[1;32m      2\u001b[0m student_test_data \u001b[38;5;241m=\u001b[39m load_student_data(STUDENT_TEST_FILE)\n\u001b[0;32m----> 3\u001b[0m \u001b[43mcheck_data\u001b[49m\u001b[43m(\u001b[49m\u001b[43moriginal_test_data\u001b[49m\u001b[43m,\u001b[49m\u001b[43m \u001b[49m\u001b[43mstudent_test_data\u001b[49m\u001b[43m)\u001b[49m\n",
      "Cell \u001b[0;32mIn[25], line 27\u001b[0m, in \u001b[0;36mcheck_data\u001b[0;34m(orig, processed)\u001b[0m\n\u001b[1;32m     25\u001b[0m a \u001b[38;5;241m=\u001b[39m orig\u001b[38;5;241m.\u001b[39mdifference(processed)\n\u001b[1;32m     26\u001b[0m b \u001b[38;5;241m=\u001b[39m processed\u001b[38;5;241m.\u001b[39mdifference(orig)\n\u001b[0;32m---> 27\u001b[0m \u001b[38;5;28;01massert\u001b[39;00m \u001b[38;5;28mlen\u001b[39m(a) \u001b[38;5;241m==\u001b[39m \u001b[38;5;241m0\u001b[39m, \u001b[38;5;124mf\u001b[39m\u001b[38;5;124m\"\u001b[39m\u001b[38;5;132;01m{\u001b[39;00m\u001b[38;5;28mlen\u001b[39m(a)\u001b[38;5;132;01m}\u001b[39;00m\u001b[38;5;124m entries in original data and not in processed: \u001b[39m\u001b[38;5;132;01m{\u001b[39;00ma\u001b[38;5;132;01m}\u001b[39;00m\u001b[38;5;124m\"\u001b[39m \n\u001b[1;32m     28\u001b[0m \u001b[38;5;28;01massert\u001b[39;00m \u001b[38;5;28mlen\u001b[39m(b) \u001b[38;5;241m==\u001b[39m \u001b[38;5;241m0\u001b[39m, \u001b[38;5;124mf\u001b[39m\u001b[38;5;124m\"\u001b[39m\u001b[38;5;132;01m{\u001b[39;00m\u001b[38;5;28mlen\u001b[39m(b)\u001b[38;5;132;01m}\u001b[39;00m\u001b[38;5;124m entries in processed data and not in original: \u001b[39m\u001b[38;5;132;01m{\u001b[39;00mb\u001b[38;5;132;01m}\u001b[39;00m\u001b[38;5;124m\"\u001b[39m\n",
      "\u001b[0;31mAssertionError\u001b[0m: 204 entries in original data and not in processed: {'giorno lavorativo', 'tour de force', 'Ponte Vecchio', 'Tropico del Capricorno', 'Lancia Y', 'Giovanni della Croce', 'word processor', 'salamandra pezzata', 'museo scientifico', 'Mario Lavezzi', 'assistente sociale', 'Ugo La Malfa', 'San Biagio', 'Robert Bruce', 'Partito Comunista Italiano', 'Paolo Conte', 'Led Zeppelin', 'Margherita Hack', 'Carlo Maria Martini', 'Red Hat', 'Cascate del Niagara', 'Federazione Russa', 'lingua friulana', 'costume da bagno', 'vapore acqueo', 'esame del DNA', 'Il giudizio', 'campionato mondiale', 'Piazza di Spagna', 'Mar Mediterraneo', 'Marco Travaglio', 'Francesco Totti', 'Oliviero Toscani', 'Max Biaggi', 'anniversario di matrimonio', 'client di posta', 'Alto Commissario', 'croce di Malta', 'corona svedese', 'Santa Rita', 'The Simpsons', 'circuito stampato', 'Cesare Pavese', 'la minore', 'Il Messaggero', 'Don Chisciotte', 'Fassa Bortolo', 'letto matrimoniale', 'Cesare Battisti', 'Il vento', 'mercato del lavoro', 'Times New Roman', 'Lincoln Memorial', 'Piazza Umberto I', 'mercato dei titoli', 'Partito Liberale', 'scuola elementare', 'Emily Dickinson', 'Gran Bretagna', 'ministro degli interni', 'Lamberto Dini', 'Giacomo Puccini', 'Pietro Nenni', 'tour operator', 'Carlo Giovanardi', 'tiro a segno', 'Niente paura', 'strada maestra', 'Agenzia delle Entrate', 'scuola di specializzazione', 'radiazione solare', 'energia potenziale', 'Il sogno', 'La cosa', 'Canale di Panamá', 'François Truffaut', 'passato prossimo', 'Porto Cervo', 'Julia Roberts', 'Giancarlo Galan', 'comandante in capo', 'Serie B', 'foresta pluviale', 'Mare del Nord', 'Mar del Nord', 'apparecchio ortodontico', 'mercato borsistico', 'albero a camme', 'Lance Armstrong', 'Santa Sede', 'istituto di emissione', 'lettera di cambio', 'telefono cellulare', 'Galileo Ferraris', 'Leonardo Domenici', 'centrale nucleare', 'San Vitale', 'realtà virtuale', 'James Stewart', 'Gianni Letta', 'progetto pilota', 'squadra volante', 'Casola Valsenio', 'John Ford', 'campo sportivo', 'Martin Mystère', 'Vandana Shiva', 'industria petrolifera', 'Kurt Vonnegut', 'dollaro americano', 'Il lupo', 'Oceano Pacifico', 'elezione diretta', 'Il fiume', 'lingua parlata', 'Alex Zanotelli', 'Asia Minore', 'mar Egeo', 'Britney Spears', 'casa a schiera', 'Libro dei Giudici', 'passera scopaiola', 'star del cinema', 'Chicago Bulls', 'diritto di passaggio', 'Michelle Pfeiffer', 'Re Sole', 'Paolo Bonolis', 'Il giocatore', 'morbo di Parkinson', 'falco di palude', 'William Shakespeare', 'vigili del fuoco', 'unità di tempo', 'British Medical Journal', 'studio legale', 'sequestro di persona', 'lana di vetro', 'Google Maps', 'spargimento di sangue', 'San Vito', 'New Jersey', 'pensione di invalidità', 'gara di velocità', 'Emma Bonino', 'Franco Angeli', 'torre Eiffel', 'ufficio di collocamento', 'Santo Stefano', 'Ernest Rutherford', 'televisione via cavo', 'azienda pubblica', 'Alfredo il Grande', 'Palazzo di Giustizia', 'Sin City', 'atto costitutivo', 'Isole Aleutine', 'Adriano Olivetti', 'pompa da bicicletta', 'antica Grecia', 'Moira Shearer', 'Lo specchio', 'rublo russo', 'Pax Christi', 'Emanuele Filiberto', 'rete elettrica', 'Il muro', 'Paolo Costa', 'fuga di notizie', 'chiave musicale', 'Prodotto interno lordo', 'Elettra Deiana', 'Egidio Banti', 'cranio umano', 'età moderna', 'Un uomo', 'Ariel Sharon', 'Riccardo Magherini', 'papillomavirus umano', 'agenzia di viaggi', 'Mark Twain', 'Santa Maria', 'Università del Wisconsin-Madison', 'palla da rugby', 'lago Trasimeno', 'Rai 1', 'Gengis Khan', 'assegno a vuoto', 'punto di vista', 'spazio vitale', 'acqua marina', 'Peter Pan', 'Martin Scorsese', 'San Severo', 'fisica moderna', 'guerra totale', 'Guerra fredda', 'Etty Hillesum', 'Marciana Marina', 'vescicola seminale', 'Oliver Stone', 'Bill Gates', 'Lonate Pozzolo', 'Lamezia Terme'}"
     ]
    }
   ],
   "source": [
    "# Test file\n",
    "student_test_data = load_student_data(STUDENT_TEST_FILE)\n",
    "check_data(original_test_data, student_test_data)"
   ]
  }
 ],
 "metadata": {
  "kernelspec": {
   "display_name": "nlp2024",
   "language": "python",
   "name": "python3"
  },
  "language_info": {
   "codemirror_mode": {
    "name": "ipython",
    "version": 3
   },
   "file_extension": ".py",
   "mimetype": "text/x-python",
   "name": "python",
   "nbconvert_exporter": "python",
   "pygments_lexer": "ipython3",
   "version": "3.11.9"
  }
 },
 "nbformat": 4,
 "nbformat_minor": 2
}
