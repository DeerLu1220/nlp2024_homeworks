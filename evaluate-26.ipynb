{
 "cells": [
  {
   "cell_type": "code",
   "execution_count": 8,
   "metadata": {},
   "outputs": [],
   "source": [
    "import json\n",
    "\n",
    "def load_student_data(data_path:str):\n",
    "    errors = []\n",
    "    data = set()\n",
    "    with open(data_path) as f:\n",
    "        for line in f:\n",
    "            elem = json.loads(line)\n",
    "            if len(elem['choices']) != 4:\n",
    "                print(f\"There are more/less than 4 choices found for: {elem}\")\n",
    "                errors.append(elem)\n",
    "            elif len(set(elem['choices'])) < 4:\n",
    "                print(f\"There are duplicated choices: {elem['choices']}\")\n",
    "                errors.append(elem)\n",
    "            data.add(elem['text'].strip())\n",
    "    print(f\"{len(errors)} errors.\")\n",
    "    return data\n",
    "\n",
    "def load_original_data(data_path:str):\n",
    "    data = set()\n",
    "    with open(data_path, \"r\", encoding = 'utf-8') as fin:\n",
    "        for line in fin:\n",
    "            item = line.strip().replace('Concept', '').replace('Entity', '').strip('\\t')\n",
    "            data.add(item)\n",
    "    return data\n",
    "\n",
    "def check_data(orig, processed):\n",
    "    a = orig.difference(processed)\n",
    "    b = processed.difference(orig)\n",
    "    assert len(a) == 0, f\"{len(a)} entries in original data and not in processed: {a}\" \n",
    "    assert len(b) == 0, f\"{len(b)} entries in processed data and not in original: {b}\" \n",
    "\n",
    "original_train_data = load_original_data('original_datasets/task-26-hypernym_discovery/training/data/1B.italian.training.data.txt')\n",
    "original_test_data = load_original_data('original_datasets/task-26-hypernym_discovery/test/data/1B.italian.test.data.txt')"
   ]
  },
  {
   "cell_type": "code",
   "execution_count": 16,
   "metadata": {},
   "outputs": [],
   "source": [
    "STUDENT_TRAIN_FILE = 'students_submissions/cardullo.2127806/HM1_A-2127806/27_hypernym_discovery/hypernym_discovery-task1-train-data.jsonl'\n",
    "STUDENT_TEST_FILE  = 'students_submissions/cardullo.2127806/HM1_A-2127806/27_hypernym_discovery/hypernym_discovery-task1-test-data.jsonl'"
   ]
  },
  {
   "cell_type": "code",
   "execution_count": 17,
   "metadata": {},
   "outputs": [
    {
     "name": "stdout",
     "output_type": "stream",
     "text": [
      "There are duplicated choices: ['rischiaramento', 'trattato internazionale', 'condottiero', 'condottiero']\n",
      "There are duplicated choices: ['matematica pura', 'circolazione', 'matematica pura', 'guru']\n",
      "There are duplicated choices: ['pettegolezzo', 'pettegolezzo', 'struttura architettonica', 'malformazione']\n",
      "There are duplicated choices: ['borgo\\n', 'materiale illustrativo', 'seguace', 'materiale illustrativo']\n",
      "There are duplicated choices: ['torta', 'discendenza', 'discendenza', 'tempo']\n",
      "5 errors.\n"
     ]
    }
   ],
   "source": [
    "# Train file\n",
    "student_train_data = load_student_data(STUDENT_TRAIN_FILE)\n",
    "check_data(original_train_data, student_train_data)"
   ]
  },
  {
   "cell_type": "code",
   "execution_count": 18,
   "metadata": {},
   "outputs": [
    {
     "name": "stdout",
     "output_type": "stream",
     "text": [
      "There are duplicated choices: ['indicatore', 'indicatore', 'ragazza', 'asserzione']\n",
      "There are duplicated choices: ['idrovia', 'idrovia', 'rete\\n', 'insetto']\n",
      "There are duplicated choices: ['beni culturali', 'nota musicale', 'spazio\\n', 'nota musicale']\n",
      "There are duplicated choices: ['bacchetta', 'epistola', 'indicatore', 'bacchetta']\n",
      "4 errors.\n"
     ]
    }
   ],
   "source": [
    "# Test file\n",
    "student_test_data = load_student_data(STUDENT_TEST_FILE)\n",
    "check_data(original_test_data, student_test_data)"
   ]
  }
 ],
 "metadata": {
  "kernelspec": {
   "display_name": "nlp2024",
   "language": "python",
   "name": "python3"
  },
  "language_info": {
   "codemirror_mode": {
    "name": "ipython",
    "version": 3
   },
   "file_extension": ".py",
   "mimetype": "text/x-python",
   "name": "python",
   "nbconvert_exporter": "python",
   "pygments_lexer": "ipython3",
   "version": "3.11.9"
  }
 },
 "nbformat": 4,
 "nbformat_minor": 2
}
